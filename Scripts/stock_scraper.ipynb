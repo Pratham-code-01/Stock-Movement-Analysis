{
 "cells": [
  {
   "cell_type": "code",
   "execution_count": 1,
   "metadata": {},
   "outputs": [],
   "source": [
    "import pandas as pd\n",
    "from datetime import datetime, timedelta\n",
    "import praw"
   ]
  },
  {
   "cell_type": "code",
   "execution_count": 2,
   "metadata": {},
   "outputs": [
    {
     "name": "stdout",
     "output_type": "stream",
     "text": [
      "Reddit API connection :  True\n"
     ]
    }
   ],
   "source": [
    "reddit = praw.Reddit(\n",
    "    client_id = '7QZb12vzjMWBB1b0yQG32Q',\n",
    "    client_secret = 'jVSRfTtAMaMVmzeYrbvToZQFsrhM5A',\n",
    "    user_agent = 'Stock_Movement_Analysis by Background_Second725'\n",
    ")\n",
    "\n",
    "print('Reddit API connection : ', reddit.read_only)"
   ]
  },
  {
   "cell_type": "code",
   "execution_count": 3,
   "metadata": {},
   "outputs": [],
   "source": [
    "def scrape_subreddit(reddit, subreddit_name, start_date, end_date, post_limit=1000):\n",
    "    subreddit = reddit.subreddit(subreddit_name)\n",
    "    posts = []\n",
    "\n",
    "    for post in subreddit.new(limit=post_limit):\n",
    "        post_date = datetime.fromtimestamp(post.created_utc)\n",
    "        if start_date <= post_date <= end_date:\n",
    "            posts.append({\n",
    "                'title' : post.title,\n",
    "                'id' : post.id,\n",
    "                'author' : str(post.author),\n",
    "                'created_utc' : post_date,\n",
    "                'score' : post.score,\n",
    "                'upvote_ratio' : post.upvote_ratio,\n",
    "                'num_comments' : post.num_comments,\n",
    "                'url' : post.url,\n",
    "                'selftext' : post.selftext\n",
    "            })\n",
    "\n",
    "    return pd.DataFrame(posts)"
   ]
  },
  {
   "cell_type": "code",
   "execution_count": 4,
   "metadata": {},
   "outputs": [],
   "source": [
    "def scrape_multiple_subreddits(subreddits, months=6, post_limit=1000):\n",
    "    end_date = datetime.now()\n",
    "    start_date = end_date - timedelta(days=30 * months)\n",
    "    combined_data = pd.DataFrame()\n",
    "    \n",
    "    for subreddit in subreddits:\n",
    "        print(f'Scaping subreddit : {subreddit} from {start_date} to {end_date}')\n",
    "        subreddit_data = scrape_subreddit(\n",
    "            reddit, subreddit, start_date, end_date, post_limit=post_limit\n",
    "        )\n",
    "        combined_data = pd.concat([combined_data, subreddit_data], ignore_index=True)\n",
    "\n",
    "    return combined_data"
   ]
  },
  {
   "cell_type": "code",
   "execution_count": 5,
   "metadata": {},
   "outputs": [
    {
     "name": "stdout",
     "output_type": "stream",
     "text": [
      "Scaping subreddit : stocks from 2024-06-09 23:51:05.224600 to 2024-12-06 23:51:05.224600\n",
      "Scaping subreddit : investing from 2024-06-09 23:51:05.224600 to 2024-12-06 23:51:05.224600\n",
      "Scaping subreddit : wallstreetbets from 2024-06-09 23:51:05.224600 to 2024-12-06 23:51:05.224600\n"
     ]
    }
   ],
   "source": [
    "subreddits_to_scrape = ['stocks', 'investing', 'wallstreetbets']\n",
    "months_to_scrape = 6\n",
    "max_posts_per_subreddit = 1000\n",
    "\n",
    "scraped_data = scrape_multiple_subreddits(\n",
    "    subreddits = subreddits_to_scrape,\n",
    "    months = months_to_scrape,\n",
    "    post_limit = max_posts_per_subreddit\n",
    ")"
   ]
  },
  {
   "cell_type": "code",
   "execution_count": 6,
   "metadata": {},
   "outputs": [
    {
     "name": "stdout",
     "output_type": "stream",
     "text": [
      "Scraped data saved to ../Data/reddit_stock_data.csv\n"
     ]
    }
   ],
   "source": [
    "output_file = '../Data/reddit_stock_data.csv'\n",
    "scraped_data.to_csv(output_file, index=False)\n",
    "print(f'Scraped data saved to {output_file}')"
   ]
  },
  {
   "cell_type": "code",
   "execution_count": 7,
   "metadata": {},
   "outputs": [
    {
     "name": "stdout",
     "output_type": "stream",
     "text": [
      "Total posts scraped : 2380\n"
     ]
    }
   ],
   "source": [
    "print(f'Total posts scraped : {len(scraped_data)}')"
   ]
  },
  {
   "cell_type": "code",
   "execution_count": null,
   "metadata": {},
   "outputs": [],
   "source": []
  }
 ],
 "metadata": {
  "kernelspec": {
   "display_name": "venv",
   "language": "python",
   "name": "python3"
  },
  "language_info": {
   "codemirror_mode": {
    "name": "ipython",
    "version": 3
   },
   "file_extension": ".py",
   "mimetype": "text/x-python",
   "name": "python",
   "nbconvert_exporter": "python",
   "pygments_lexer": "ipython3",
   "version": "3.12.6"
  }
 },
 "nbformat": 4,
 "nbformat_minor": 2
}
